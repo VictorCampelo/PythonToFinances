{
  "nbformat": 4,
  "nbformat_minor": 0,
  "metadata": {
    "colab": {
      "name": "myFinancePy.ipynb",
      "provenance": [],
      "mount_file_id": "1ZjyfUiF_FmSBh2viQKdRiTUY8OG9I0H1",
      "authorship_tag": "ABX9TyMpakwJGgIRQLq0P3+AJbrF",
      "include_colab_link": true
    },
    "kernelspec": {
      "name": "python3",
      "display_name": "Python 3"
    }
  },
  "cells": [
    {
      "cell_type": "markdown",
      "metadata": {
        "id": "view-in-github",
        "colab_type": "text"
      },
      "source": [
        "<a href=\"https://colab.research.google.com/github/VictorCampelo/PythonToFinances/blob/master/myFinancePy.ipynb\" target=\"_parent\"><img src=\"https://colab.research.google.com/assets/colab-badge.svg\" alt=\"Open In Colab\"/></a>"
      ]
    },
    {
      "cell_type": "code",
      "metadata": {
        "id": "8lFgCxcrq_hx",
        "colab_type": "code",
        "colab": {}
      },
      "source": [
        "import datetime as dt\n",
        "import matplotlib.pyplot as plt\n",
        "from matplotlib import style\n",
        "import pandas as pd\n",
        "import pandas_datareader.data as web"
      ],
      "execution_count": 0,
      "outputs": []
    },
    {
      "cell_type": "code",
      "metadata": {
        "id": "HAoI_2IaXWqC",
        "colab_type": "code",
        "colab": {}
      },
      "source": [
        "style.use('ggplot')"
      ],
      "execution_count": 0,
      "outputs": []
    },
    {
      "cell_type": "code",
      "metadata": {
        "id": "-P6bDUWVXyOi",
        "colab_type": "code",
        "colab": {}
      },
      "source": [
        "start = dt.datetime(2015, 1, 1)\n",
        "end = dt.datetime.now()"
      ],
      "execution_count": 0,
      "outputs": []
    },
    {
      "cell_type": "code",
      "metadata": {
        "id": "1f0ZQrRzX8xU",
        "colab_type": "code",
        "colab": {}
      },
      "source": [
        "df = web.DataReader('PETR3.SA', 'yahoo', start, end)"
      ],
      "execution_count": 0,
      "outputs": []
    },
    {
      "cell_type": "code",
      "metadata": {
        "id": "eFv_dqCBYW3f",
        "colab_type": "code",
        "colab": {
          "base_uri": "https://localhost:8080/",
          "height": 235
        },
        "outputId": "28a4b556-6e71-4423-9548-a51f072bc8e6"
      },
      "source": [
        "df.head()"
      ],
      "execution_count": 14,
      "outputs": [
        {
          "output_type": "execute_result",
          "data": {
            "text/html": [
              "<div>\n",
              "<style scoped>\n",
              "    .dataframe tbody tr th:only-of-type {\n",
              "        vertical-align: middle;\n",
              "    }\n",
              "\n",
              "    .dataframe tbody tr th {\n",
              "        vertical-align: top;\n",
              "    }\n",
              "\n",
              "    .dataframe thead th {\n",
              "        text-align: right;\n",
              "    }\n",
              "</style>\n",
              "<table border=\"1\" class=\"dataframe\">\n",
              "  <thead>\n",
              "    <tr style=\"text-align: right;\">\n",
              "      <th></th>\n",
              "      <th>High</th>\n",
              "      <th>Low</th>\n",
              "      <th>Open</th>\n",
              "      <th>Close</th>\n",
              "      <th>Volume</th>\n",
              "      <th>Adj Close</th>\n",
              "    </tr>\n",
              "    <tr>\n",
              "      <th>Date</th>\n",
              "      <th></th>\n",
              "      <th></th>\n",
              "      <th></th>\n",
              "      <th></th>\n",
              "      <th></th>\n",
              "      <th></th>\n",
              "    </tr>\n",
              "  </thead>\n",
              "  <tbody>\n",
              "    <tr>\n",
              "      <th>2015-01-02</th>\n",
              "      <td>9.67</td>\n",
              "      <td>9.00</td>\n",
              "      <td>9.58</td>\n",
              "      <td>9.00</td>\n",
              "      <td>12710900.0</td>\n",
              "      <td>8.525017</td>\n",
              "    </tr>\n",
              "    <tr>\n",
              "      <th>2015-01-05</th>\n",
              "      <td>8.96</td>\n",
              "      <td>8.25</td>\n",
              "      <td>8.64</td>\n",
              "      <td>8.27</td>\n",
              "      <td>25730600.0</td>\n",
              "      <td>7.833544</td>\n",
              "    </tr>\n",
              "    <tr>\n",
              "      <th>2015-01-06</th>\n",
              "      <td>8.53</td>\n",
              "      <td>7.78</td>\n",
              "      <td>8.28</td>\n",
              "      <td>8.06</td>\n",
              "      <td>29754600.0</td>\n",
              "      <td>7.634626</td>\n",
              "    </tr>\n",
              "    <tr>\n",
              "      <th>2015-01-07</th>\n",
              "      <td>8.51</td>\n",
              "      <td>8.08</td>\n",
              "      <td>8.30</td>\n",
              "      <td>8.45</td>\n",
              "      <td>34128300.0</td>\n",
              "      <td>8.004045</td>\n",
              "    </tr>\n",
              "    <tr>\n",
              "      <th>2015-01-08</th>\n",
              "      <td>9.26</td>\n",
              "      <td>8.52</td>\n",
              "      <td>8.60</td>\n",
              "      <td>9.02</td>\n",
              "      <td>37487300.0</td>\n",
              "      <td>8.543962</td>\n",
              "    </tr>\n",
              "  </tbody>\n",
              "</table>\n",
              "</div>"
            ],
            "text/plain": [
              "            High   Low  Open  Close      Volume  Adj Close\n",
              "Date                                                      \n",
              "2015-01-02  9.67  9.00  9.58   9.00  12710900.0   8.525017\n",
              "2015-01-05  8.96  8.25  8.64   8.27  25730600.0   7.833544\n",
              "2015-01-06  8.53  7.78  8.28   8.06  29754600.0   7.634626\n",
              "2015-01-07  8.51  8.08  8.30   8.45  34128300.0   8.004045\n",
              "2015-01-08  9.26  8.52  8.60   9.02  37487300.0   8.543962"
            ]
          },
          "metadata": {
            "tags": []
          },
          "execution_count": 14
        }
      ]
    },
    {
      "cell_type": "code",
      "metadata": {
        "id": "6jmAenjjYySs",
        "colab_type": "code",
        "colab": {}
      },
      "source": [
        "df.to_csv('petrobras.csv')"
      ],
      "execution_count": 0,
      "outputs": []
    },
    {
      "cell_type": "code",
      "metadata": {
        "id": "4XxnycX8ZVRo",
        "colab_type": "code",
        "colab": {
          "base_uri": "https://localhost:8080/",
          "height": 235
        },
        "outputId": "1adaf98e-1eee-474f-b7f9-4b3cc41c65ec"
      },
      "source": [
        "df = pd.read_csv('petrobras.csv', parse_dates=True, index_col=0)"
      ],
      "execution_count": 18,
      "outputs": [
        {
          "output_type": "execute_result",
          "data": {
            "text/html": [
              "<div>\n",
              "<style scoped>\n",
              "    .dataframe tbody tr th:only-of-type {\n",
              "        vertical-align: middle;\n",
              "    }\n",
              "\n",
              "    .dataframe tbody tr th {\n",
              "        vertical-align: top;\n",
              "    }\n",
              "\n",
              "    .dataframe thead th {\n",
              "        text-align: right;\n",
              "    }\n",
              "</style>\n",
              "<table border=\"1\" class=\"dataframe\">\n",
              "  <thead>\n",
              "    <tr style=\"text-align: right;\">\n",
              "      <th></th>\n",
              "      <th>High</th>\n",
              "      <th>Low</th>\n",
              "      <th>Open</th>\n",
              "      <th>Close</th>\n",
              "      <th>Volume</th>\n",
              "      <th>Adj Close</th>\n",
              "    </tr>\n",
              "    <tr>\n",
              "      <th>Date</th>\n",
              "      <th></th>\n",
              "      <th></th>\n",
              "      <th></th>\n",
              "      <th></th>\n",
              "      <th></th>\n",
              "      <th></th>\n",
              "    </tr>\n",
              "  </thead>\n",
              "  <tbody>\n",
              "    <tr>\n",
              "      <th>2015-01-02</th>\n",
              "      <td>9.67</td>\n",
              "      <td>9.00</td>\n",
              "      <td>9.58</td>\n",
              "      <td>9.00</td>\n",
              "      <td>12710900.0</td>\n",
              "      <td>8.525017</td>\n",
              "    </tr>\n",
              "    <tr>\n",
              "      <th>2015-01-05</th>\n",
              "      <td>8.96</td>\n",
              "      <td>8.25</td>\n",
              "      <td>8.64</td>\n",
              "      <td>8.27</td>\n",
              "      <td>25730600.0</td>\n",
              "      <td>7.833544</td>\n",
              "    </tr>\n",
              "    <tr>\n",
              "      <th>2015-01-06</th>\n",
              "      <td>8.53</td>\n",
              "      <td>7.78</td>\n",
              "      <td>8.28</td>\n",
              "      <td>8.06</td>\n",
              "      <td>29754600.0</td>\n",
              "      <td>7.634626</td>\n",
              "    </tr>\n",
              "    <tr>\n",
              "      <th>2015-01-07</th>\n",
              "      <td>8.51</td>\n",
              "      <td>8.08</td>\n",
              "      <td>8.30</td>\n",
              "      <td>8.45</td>\n",
              "      <td>34128300.0</td>\n",
              "      <td>8.004045</td>\n",
              "    </tr>\n",
              "    <tr>\n",
              "      <th>2015-01-08</th>\n",
              "      <td>9.26</td>\n",
              "      <td>8.52</td>\n",
              "      <td>8.60</td>\n",
              "      <td>9.02</td>\n",
              "      <td>37487300.0</td>\n",
              "      <td>8.543962</td>\n",
              "    </tr>\n",
              "  </tbody>\n",
              "</table>\n",
              "</div>"
            ],
            "text/plain": [
              "            High   Low  Open  Close      Volume  Adj Close\n",
              "Date                                                      \n",
              "2015-01-02  9.67  9.00  9.58   9.00  12710900.0   8.525017\n",
              "2015-01-05  8.96  8.25  8.64   8.27  25730600.0   7.833544\n",
              "2015-01-06  8.53  7.78  8.28   8.06  29754600.0   7.634626\n",
              "2015-01-07  8.51  8.08  8.30   8.45  34128300.0   8.004045\n",
              "2015-01-08  9.26  8.52  8.60   9.02  37487300.0   8.543962"
            ]
          },
          "metadata": {
            "tags": []
          },
          "execution_count": 18
        }
      ]
    },
    {
      "cell_type": "code",
      "metadata": {
        "id": "XqfC4rZDbFOE",
        "colab_type": "code",
        "colab": {
          "base_uri": "https://localhost:8080/",
          "height": 235
        },
        "outputId": "e7955560-2388-4d9a-87de-03073ee0520c"
      },
      "source": [
        "df.tail()"
      ],
      "execution_count": 20,
      "outputs": [
        {
          "output_type": "execute_result",
          "data": {
            "text/html": [
              "<div>\n",
              "<style scoped>\n",
              "    .dataframe tbody tr th:only-of-type {\n",
              "        vertical-align: middle;\n",
              "    }\n",
              "\n",
              "    .dataframe tbody tr th {\n",
              "        vertical-align: top;\n",
              "    }\n",
              "\n",
              "    .dataframe thead th {\n",
              "        text-align: right;\n",
              "    }\n",
              "</style>\n",
              "<table border=\"1\" class=\"dataframe\">\n",
              "  <thead>\n",
              "    <tr style=\"text-align: right;\">\n",
              "      <th></th>\n",
              "      <th>High</th>\n",
              "      <th>Low</th>\n",
              "      <th>Open</th>\n",
              "      <th>Close</th>\n",
              "      <th>Volume</th>\n",
              "      <th>Adj Close</th>\n",
              "    </tr>\n",
              "    <tr>\n",
              "      <th>Date</th>\n",
              "      <th></th>\n",
              "      <th></th>\n",
              "      <th></th>\n",
              "      <th></th>\n",
              "      <th></th>\n",
              "      <th></th>\n",
              "    </tr>\n",
              "  </thead>\n",
              "  <tbody>\n",
              "    <tr>\n",
              "      <th>2020-05-08</th>\n",
              "      <td>19.650000</td>\n",
              "      <td>18.600000</td>\n",
              "      <td>18.700001</td>\n",
              "      <td>19.549999</td>\n",
              "      <td>21161300.0</td>\n",
              "      <td>19.549999</td>\n",
              "    </tr>\n",
              "    <tr>\n",
              "      <th>2020-05-11</th>\n",
              "      <td>19.830000</td>\n",
              "      <td>18.990000</td>\n",
              "      <td>19.379999</td>\n",
              "      <td>19.030001</td>\n",
              "      <td>23059300.0</td>\n",
              "      <td>19.030001</td>\n",
              "    </tr>\n",
              "    <tr>\n",
              "      <th>2020-05-12</th>\n",
              "      <td>19.570000</td>\n",
              "      <td>18.870001</td>\n",
              "      <td>19.379999</td>\n",
              "      <td>18.870001</td>\n",
              "      <td>20641000.0</td>\n",
              "      <td>18.870001</td>\n",
              "    </tr>\n",
              "    <tr>\n",
              "      <th>2020-05-13</th>\n",
              "      <td>19.129999</td>\n",
              "      <td>18.010000</td>\n",
              "      <td>18.959999</td>\n",
              "      <td>18.129999</td>\n",
              "      <td>20723300.0</td>\n",
              "      <td>18.129999</td>\n",
              "    </tr>\n",
              "    <tr>\n",
              "      <th>2020-05-14</th>\n",
              "      <td>0.000000</td>\n",
              "      <td>0.000000</td>\n",
              "      <td>0.000000</td>\n",
              "      <td>17.690001</td>\n",
              "      <td>0.0</td>\n",
              "      <td>17.690001</td>\n",
              "    </tr>\n",
              "  </tbody>\n",
              "</table>\n",
              "</div>"
            ],
            "text/plain": [
              "                 High        Low       Open      Close      Volume  Adj Close\n",
              "Date                                                                         \n",
              "2020-05-08  19.650000  18.600000  18.700001  19.549999  21161300.0  19.549999\n",
              "2020-05-11  19.830000  18.990000  19.379999  19.030001  23059300.0  19.030001\n",
              "2020-05-12  19.570000  18.870001  19.379999  18.870001  20641000.0  18.870001\n",
              "2020-05-13  19.129999  18.010000  18.959999  18.129999  20723300.0  18.129999\n",
              "2020-05-14   0.000000   0.000000   0.000000  17.690001         0.0  17.690001"
            ]
          },
          "metadata": {
            "tags": []
          },
          "execution_count": 20
        }
      ]
    },
    {
      "cell_type": "code",
      "metadata": {
        "id": "cGr9RQ-0axWs",
        "colab_type": "code",
        "colab": {
          "base_uri": "https://localhost:8080/",
          "height": 289
        },
        "outputId": "a266a589-bff6-4d33-f41c-7dd259f7e378"
      },
      "source": [
        "df['Adj Close'].plot()"
      ],
      "execution_count": 21,
      "outputs": [
        {
          "output_type": "execute_result",
          "data": {
            "text/plain": [
              "<matplotlib.axes._subplots.AxesSubplot at 0x7f255862b0f0>"
            ]
          },
          "metadata": {
            "tags": []
          },
          "execution_count": 21
        },
        {
          "output_type": "display_data",
          "data": {
            "image/png": "[encoded data removed]",
            "text/plain": [
              "<Figure size 432x288 with 1 Axes>"
            ]
          },
          "metadata": {
            "tags": []
          }
        }
      ]
    },
    {
      "cell_type": "code",
      "metadata": {
        "id": "JqV_fSeKbUCG",
        "colab_type": "code",
        "colab": {}
      },
      "source": [
        "df['100ma'] = df['Adj Close'].rolling(window=100).mean()"
      ],
      "execution_count": 0,
      "outputs": []
    },
    {
      "cell_type": "code",
      "metadata": {
        "id": "4DlfvZV4b7SJ",
        "colab_type": "code",
        "colab": {
          "base_uri": "https://localhost:8080/",
          "height": 289
        },
        "outputId": "75d5cedb-27b2-4b1f-a73e-f6a62697fe6b"
      },
      "source": [
        "df['100ma'].plot()"
      ],
      "execution_count": 25,
      "outputs": [
        {
          "output_type": "execute_result",
          "data": {
            "text/plain": [
              "<matplotlib.axes._subplots.AxesSubplot at 0x7f255bdaffd0>"
            ]
          },
          "metadata": {
            "tags": []
          },
          "execution_count": 25
        },
        {
          "output_type": "display_data",
          "data": {
            "image/png": "[encoded data removed]",
            "text/plain": [
              "<Figure size 432x288 with 1 Axes>"
            ]
          },
          "metadata": {
            "tags": []
          }
        }
      ]
    },
    {
      "cell_type": "code",
      "metadata": {
        "id": "k-_J5whRb-U5",
        "colab_type": "code",
        "colab": {
          "base_uri": "https://localhost:8080/",
          "height": 235
        },
        "outputId": "a2886afd-9123-4ffe-c4a6-06c2e7034257"
      },
      "source": [
        "df.head()"
      ],
      "execution_count": 26,
      "outputs": [
        {
          "output_type": "execute_result",
          "data": {
            "text/html": [
              "<div>\n",
              "<style scoped>\n",
              "    .dataframe tbody tr th:only-of-type {\n",
              "        vertical-align: middle;\n",
              "    }\n",
              "\n",
              "    .dataframe tbody tr th {\n",
              "        vertical-align: top;\n",
              "    }\n",
              "\n",
              "    .dataframe thead th {\n",
              "        text-align: right;\n",
              "    }\n",
              "</style>\n",
              "<table border=\"1\" class=\"dataframe\">\n",
              "  <thead>\n",
              "    <tr style=\"text-align: right;\">\n",
              "      <th></th>\n",
              "      <th>High</th>\n",
              "      <th>Low</th>\n",
              "      <th>Open</th>\n",
              "      <th>Close</th>\n",
              "      <th>Volume</th>\n",
              "      <th>Adj Close</th>\n",
              "      <th>100ma</th>\n",
              "    </tr>\n",
              "    <tr>\n",
              "      <th>Date</th>\n",
              "      <th></th>\n",
              "      <th></th>\n",
              "      <th></th>\n",
              "      <th></th>\n",
              "      <th></th>\n",
              "      <th></th>\n",
              "      <th></th>\n",
              "    </tr>\n",
              "  </thead>\n",
              "  <tbody>\n",
              "    <tr>\n",
              "      <th>2015-01-02</th>\n",
              "      <td>9.67</td>\n",
              "      <td>9.00</td>\n",
              "      <td>9.58</td>\n",
              "      <td>9.00</td>\n",
              "      <td>12710900.0</td>\n",
              "      <td>8.525017</td>\n",
              "      <td>NaN</td>\n",
              "    </tr>\n",
              "    <tr>\n",
              "      <th>2015-01-05</th>\n",
              "      <td>8.96</td>\n",
              "      <td>8.25</td>\n",
              "      <td>8.64</td>\n",
              "      <td>8.27</td>\n",
              "      <td>25730600.0</td>\n",
              "      <td>7.833544</td>\n",
              "      <td>NaN</td>\n",
              "    </tr>\n",
              "    <tr>\n",
              "      <th>2015-01-06</th>\n",
              "      <td>8.53</td>\n",
              "      <td>7.78</td>\n",
              "      <td>8.28</td>\n",
              "      <td>8.06</td>\n",
              "      <td>29754600.0</td>\n",
              "      <td>7.634626</td>\n",
              "      <td>NaN</td>\n",
              "    </tr>\n",
              "    <tr>\n",
              "      <th>2015-01-07</th>\n",
              "      <td>8.51</td>\n",
              "      <td>8.08</td>\n",
              "      <td>8.30</td>\n",
              "      <td>8.45</td>\n",
              "      <td>34128300.0</td>\n",
              "      <td>8.004045</td>\n",
              "      <td>NaN</td>\n",
              "    </tr>\n",
              "    <tr>\n",
              "      <th>2015-01-08</th>\n",
              "      <td>9.26</td>\n",
              "      <td>8.52</td>\n",
              "      <td>8.60</td>\n",
              "      <td>9.02</td>\n",
              "      <td>37487300.0</td>\n",
              "      <td>8.543962</td>\n",
              "      <td>NaN</td>\n",
              "    </tr>\n",
              "  </tbody>\n",
              "</table>\n",
              "</div>"
            ],
            "text/plain": [
              "            High   Low  Open  Close      Volume  Adj Close  100ma\n",
              "Date                                                             \n",
              "2015-01-02  9.67  9.00  9.58   9.00  12710900.0   8.525017    NaN\n",
              "2015-01-05  8.96  8.25  8.64   8.27  25730600.0   7.833544    NaN\n",
              "2015-01-06  8.53  7.78  8.28   8.06  29754600.0   7.634626    NaN\n",
              "2015-01-07  8.51  8.08  8.30   8.45  34128300.0   8.004045    NaN\n",
              "2015-01-08  9.26  8.52  8.60   9.02  37487300.0   8.543962    NaN"
            ]
          },
          "metadata": {
            "tags": []
          },
          "execution_count": 26
        }
      ]
    },
    {
      "cell_type": "code",
      "metadata": {
        "id": "zEvfVsylcWLT",
        "colab_type": "code",
        "colab": {}
      },
      "source": [
        "df.dropna(inplace=True)"
      ],
      "execution_count": 0,
      "outputs": []
    },
    {
      "cell_type": "code",
      "metadata": {
        "id": "YdT4mbRbclA7",
        "colab_type": "code",
        "colab": {
          "base_uri": "https://localhost:8080/",
          "height": 265
        },
        "outputId": "e21bd1ee-7536-4c0b-f3f8-e24fb8d51e5d"
      },
      "source": [
        "ax1 = plt.subplot2grid((6,1), (0,0), rowspan=5, colspan=1)\n",
        "ax2 = plt.subplot2grid((6,1), (5,0), rowspan=1, colspan=1, sharex=ax1)\n",
        "\n",
        "ax1.plot(df.index, df['Adj Close'])\n",
        "ax1.plot(df.index, df['100ma'])\n",
        "ax2.bar(df.index, df['Volume'])\n",
        "\n",
        "plt.show()"
      ],
      "execution_count": 34,
      "outputs": [
        {
          "output_type": "display_data",
          "data": {
            "image/png": "[encoded data removed]",
            "text/plain": [
              "<Figure size 432x288 with 2 Axes>"
            ]
          },
          "metadata": {
            "tags": []
          }
        }
      ]
    },
    {
      "cell_type": "code",
      "metadata": {
        "id": "BUP_bBXmcoDo",
        "colab_type": "code",
        "colab": {}
      },
      "source": [
        ""
      ],
      "execution_count": 0,
      "outputs": []
    }
  ]
}